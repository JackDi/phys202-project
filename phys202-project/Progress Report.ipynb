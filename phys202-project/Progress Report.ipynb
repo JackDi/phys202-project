{
 "cells": [
  {
   "cell_type": "markdown",
   "metadata": {},
   "source": [
    "For my term project I am examining the Schelling model of segregation, a theory that hypothesizes that even though two individual entities do not mind being next to each other as groups they will segregate from each other. \n",
    "\n",
    "My program randomly selects a square in a grid that does not meet the satisfaction criteria, then randomly selects a grid that contains a \"blank\" square, then swaps the two values.\n",
    "\n",
    "My code will be known to be working when there is a clear increase in the overall satisfaction of the grid. In order to objectively test this, I will develope a \"satisfaction index\", which will measure the average value of all of the pieces that are not blank. Until the index is implemented, the satisfaction can be judged by the satisfaction colorgrids of before and after the swapping.\n",
    "\n",
    "After proving my base question, which examines the scenario where the three different types of squares are evenly distributed by a random policy. I will examine what the effect of one type being more dominant than the other will be. I hypothesize that it will cause the other type to have to move more often than the majority, a number I will measure in a \"moving index\". This will examine if being in the minority causes a square to be displaced more often than being in the majority.\n",
    "\n",
    "I will also examine what occurs when a certain type of block is more likely to be chosen to move. This will simulate a blocks \"buying power\".\n",
    "\n",
    "With these two simulations I will be able to see which type of block is forced to move more often, as well as which type of block is satisfied more quickly, and how much more quickly.\n",
    "\n",
    "Working implementations of my code so far can be found in the Grid.1 notebook."
   ]
  },
  {
   "cell_type": "code",
   "execution_count": null,
   "metadata": {
    "collapsed": true
   },
   "outputs": [],
   "source": []
  }
 ],
 "metadata": {
  "kernelspec": {
   "display_name": "Python 3",
   "language": "python",
   "name": "python3"
  },
  "language_info": {
   "codemirror_mode": {
    "name": "ipython",
    "version": 3
   },
   "file_extension": ".py",
   "mimetype": "text/x-python",
   "name": "python",
   "nbconvert_exporter": "python",
   "pygments_lexer": "ipython3",
   "version": "3.4.0"
  }
 },
 "nbformat": 4,
 "nbformat_minor": 0
}
